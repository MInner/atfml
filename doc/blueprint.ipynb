{
 "cells": [
  {
   "cell_type": "code",
   "execution_count": null,
   "metadata": {
    "collapsed": true
   },
   "outputs": [],
   "source": [
    "import atfml"
   ]
  },
  {
   "cell_type": "code",
   "execution_count": null,
   "metadata": {
    "collapsed": true
   },
   "outputs": [],
   "source": [
    "def build_dataset():\n",
    "    pass"
   ]
  },
  {
   "cell_type": "code",
   "execution_count": null,
   "metadata": {
    "collapsed": true
   },
   "outputs": [],
   "source": [
    "# for custom bundle\n",
    "from atfml.core import UnitBundle\n",
    "from atfml.utils import inits\n",
    "\n",
    "class BundleName(UnitBundle):\n",
    "    def __init__(self, bk, name, n_hid):\n",
    "        arg_dict = {\n",
    "            'name': name,\n",
    "            'weight_template': {\n",
    "                'w': {'shape': (n_hid, n_hid), \n",
    "                      'init_method': inits.identity_repeat_init \n",
    "                     },\n",
    "            },\n",
    "            'data_template': {\n",
    "                'X': ('batch_size', n_hid),\n",
    "            }\n",
    "        }\n",
    "        super().__init__(bk, **arg_dict)\n",
    "        \n",
    "    def _func(self, theta, data, const):\n",
    "        np = None\n",
    "        bk = self.bk\n",
    "        return bk.dot(data.X, theta.w)"
   ]
  },
  {
   "cell_type": "code",
   "execution_count": null,
   "metadata": {
    "collapsed": true
   },
   "outputs": [],
   "source": [
    "# for custom model loss\n",
    "\n",
    "from atfml.core import AutoGradBackend, TheanoBackend, UnitBundle\n",
    "import atfml.utils as utils\n",
    "from atfml.utils import inits, behaviours as bhvs\n",
    "import atfml.bundles\n",
    "\n",
    "bk = AutoGradBackend()\n",
    "# bk = TheanoBackend()\n",
    "\n",
    "class Model(bk.ModelLoss):\n",
    "    def __init__(self, *, n_input_dim, n_hidden_dim):      \n",
    "        self.n_input_dim = n_input_dim\n",
    "        self.n_hidden_dim = n_hidden_dim\n",
    "        \n",
    "        arg_dict = {\n",
    "            'default_init_method': inits.gaussian_init_with(mu=0, std=1),\n",
    "            'weight_template': {\n",
    "                'A': {'shape':(self.vocab_size, self.n_embedding_dim) },\n",
    "            },\n",
    "            'weight_bundles': {\n",
    "                'sub_bundle': {\n",
    "                    'class': BundleName, \n",
    "                    'args': {'n_hid':n_hidden_dim, },\n",
    "                },\n",
    "            },\n",
    "            'data_template': {\n",
    "                'X': {'shape':('batch_size', self.seq_len), 'dtype': 'int64' },\n",
    "            },\n",
    "            'optimization_method': {'name': 'adam', 'learning_rate': 0.005, 'clip': 100},\n",
    "            'behaviours': {\n",
    "                'loss_bhv': bhvs.LossLogBehaviour(),\n",
    "            }\n",
    "        }\n",
    "        super().__init__(**arg_dict)\n",
    "    \n",
    "    @bk.export\n",
    "    def predict(self, theta, data, const):\n",
    "        np = None # for safety\n",
    "        pass\n",
    "        return data.X\n",
    "    \n",
    "    def loss(self, theta, data, const):\n",
    "        np = None # for safety\n",
    "        pred = self.raw.predict(theta, data, const)\n",
    "        loss = None\n",
    "        return loss\n",
    "    \n",
    "    @bk.export\n",
    "    def score(self, theta, data, const):\n",
    "        np = None # for safety\n",
    "        # ...\n",
    "        score = None\n",
    "        return score\n",
    "    \n",
    "    def step_callback(self, loss_val, theta, data, const, info):\n",
    "        bk = None\n",
    "        if info['n_iter'] % 50 == 0:\n",
    "            score_val = self.compiled.score(theta, data, const)\n",
    "            print('%d %10.4g %10.4g' % (info['n_iter'], loss_val, score_val))\n",
    "\n",
    "def test():\n",
    "    data = build_dataset()\n",
    "    model = Model(n_input_dim=10, n_hidden_dim=10)\n",
    "    best_theta = model.fit(data, n_max_steps=2000)\n",
    "    plt.plot(model.behaviours.loss_bhv.log)\n",
    "    plt.show()\n",
    "    \n",
    "test()"
   ]
  }
 ],
 "metadata": {
  "kernelspec": {
   "display_name": "Python 3",
   "language": "python",
   "name": "python3"
  },
  "language_info": {
   "codemirror_mode": {
    "name": "ipython",
    "version": 3
   },
   "file_extension": ".py",
   "mimetype": "text/x-python",
   "name": "python",
   "nbconvert_exporter": "python",
   "pygments_lexer": "ipython3",
   "version": "3.5.1"
  }
 },
 "nbformat": 4,
 "nbformat_minor": 0
}
