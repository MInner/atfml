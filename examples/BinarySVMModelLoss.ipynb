{
 "cells": [
  {
   "cell_type": "code",
   "execution_count": 1,
   "metadata": {
    "collapsed": false
   },
   "outputs": [],
   "source": [
    "import os, sys\n",
    "sys.path.append(os.path.dirname(os.getcwd()))\n",
    "%load_ext autoreload\n",
    "%autoreload 2\n",
    "%aimport -"
   ]
  },
  {
   "cell_type": "code",
   "execution_count": 2,
   "metadata": {
    "collapsed": false
   },
   "outputs": [
    {
     "name": "stderr",
     "output_type": "stream",
     "text": [
      "Using gpu device 2: Tesla K40c (CNMeM is disabled, cuDNN 4007)\n",
      "/home/usman/anaconda2/envs/autograd_py3/lib/python3.5/site-packages/theano/tensor/signal/downsample.py:6: UserWarning: downsample module has been moved to the theano.tensor.signal.pool module.\n",
      "  \"downsample module has been moved to the theano.tensor.signal.pool module.\")\n"
     ]
    },
    {
     "name": "stdout",
     "output_type": "stream",
     "text": [
      "Weight shapes are: ((1,), (20, 1)), n_total_params: 21\n",
      "FAST_COMPILE\n",
      "Building learning step function and gradient .... done\n",
      "Building  score.. done\n",
      "Building  loss.. done\n",
      "0 447.01; 398.432! 1 398.432; 352.442! 2 352.442; 310.984! 3 310.983; 273.008! 4 273.008; 236.985! 5 236.985; 207.415! 6 207.415; 180.384! 7 180.384; 160.144! 8 160.144; 140.878! 9 140.878; 126.516! 10 126.516; 114.784! 11 114.784; 106.324! 12 106.324; 98.0942! 13 98.0942; 90.5866! 14 90.5866; 83.4901! 15 83.4901; 78.0625! 16 78.0625; 73.6473! 17 73.6473; 70.081! 18 70.081; 67.4297! 19 67.4297; 63.2208! 20 63.2208; 58.5304! 21 58.5304; 55.5578! 22 55.5578; 53.5849! 23 53.5849; 54.2713! 24 54.2713; 54.4525! 25 54.4525; 54.3468! 26 54.3468; 53.2108! 27 53.2108; 51.621! 28 51.621; 50.152! 29 50.152; 48.712! 30 48.712; 47.3085! 31 47.3085; 46.4827! 32 46.4827; 47.6202! 33 47.6202; 48.6459! 34 48.6459; 48.4803! 35 48.4803; 47.1977! 36 47.1977; 45.3195! 37 45.3195; 43.9108! 38 43.9108; 43.0199! 39 43.0199; 42.2059! 40 42.2059; 41.8988! 41 41.8988; 41.6838! 42 41.6838; 40.9769! 43 40.9769; 40.0578! 44 40.0578; 39.7882! 45 39.7881; 39.2517! 46 39.2517; 38.2711! 47 38.2711; 37.1959! 48 37.1959; 36.2642! 49 36.2642; 35.4373! 50 35.4373; 35.2546! 51 35.2546; 35.1386! 52 35.1386; 34.378! 53 34.378; 33.9499! 54 33.9499; 33.9568! 55 33.9568; 33.6297! 56 33.6297; 33.2177! 57 33.2177; 33.1597! 58 33.1597; 32.7456! 59 32.7456; 32.1752! 60 32.1752; 31.5237! 61 31.5237; 31.4641! 62 31.4641; 31.4485! 63 31.4485; 31.1187! 64 31.1187; 30.795! 65 30.795; 30.5729! 66 30.5729; 30.6081! 67 30.6081; 30.0181! 68 30.0181; 29.8065! 69 29.8065; 29.7668! 70 29.7668; 29.8079! 71 29.8079; 29.275! 72 29.275; 29.275! 73 29.275; 29.1212! 74 29.1212; 28.9444! 75 28.9444; 29.0879! 76 29.0879; 28.9746! 77 28.9746; 28.5716! 78 28.5716; 28.4893! 79 28.4893; 28.6106! 80 28.6106; 28.1183! 81 28.1183; 28.7617! 82 28.7617; 28.7406! 83 28.7406; 27.7479! 84 27.7479; 28.6149! 85 28.6149; 28.7935! 86 28.7935; 28.8228! 87 28.8228; 28.4411! 88 28.4411; 28.1916! 89 28.1916; 28.2683! 90 28.2683; 27.6189! 91 27.6189; 27.3944! 92 27.3944; 27.393! 93 27.393; 27.7629! 94 27.7629; 27.5239! 95 27.5239; 27.336! 96 27.336; 27.6769! 97 27.6769; 27.3392! 98 27.3392; 27.2757! 99 27.2757; 27.2316! 100 27.2316; 27.3242! \n",
      "Final score: 0.9300000071525574\n"
     ]
    }
   ],
   "source": [
    "import numpy as np\n",
    "\n",
    "from core import AutoGradBackend, TheanoBackend\n",
    "import utils\n",
    "\n",
    "# bk = AutoGradBackend()\n",
    "bk = TheanoBackend()\n",
    "\n",
    "class BinarySVMModelLoss(bk.ModelLoss):\n",
    "    def __init__(self, n_features, n_steps=100):\n",
    "        self.n_features = n_features\n",
    "        self.n_steps = n_steps\n",
    "\n",
    "        arg_dict = {\n",
    "            'default_init_method': utils.inits.gaussian_init_with(mu=0, std=1),\n",
    "            'weight_template': {\n",
    "                'W': {'shape':(self.n_features, 1) },\n",
    "                'b': {'shape':(1, ), 'init_method': np.random.rand },\n",
    "            },\n",
    "            'data_template': {\n",
    "                'X': {'shape':('batch_size', self.n_features), 'dtype': 'float64' },\n",
    "                'y': {'shape':('batch_size', ) , 'dtype': 'int64'},\n",
    "            },\n",
    "            'optimization_method': {'name': 'adam', 'learning_rate': 0.1},\n",
    "        }\n",
    "        super().__init__(**arg_dict)\n",
    "    \n",
    "    def loss(self, theta, data, const):\n",
    "        A = bk.dot(data.X, theta.W) + theta.b # (batch_size, 1)\n",
    "        loss_i = bk.maximum(0, 1 - A*data.y[:, bk.newaxis])\n",
    "        return bk.sum(loss_i) + bk.sum(bk.abs(theta.W))\n",
    "    \n",
    "    @bk.export\n",
    "    def score(self, theta, data, const):\n",
    "        A = bk.dot(data.X, theta.W) + theta.b # (batch_size, 1)\n",
    "        score = bk.sum( bk.isclose(bk.sign(A), data.y[:, bk.newaxis]))/A.shape[0]\n",
    "        return score\n",
    "    \n",
    "    def step_callback(self, loss_val, theta, data, const, info):\n",
    "        print(info['n_iter'], '%g' % loss_val, end='; ')\n",
    "        print('%g' % self.compiled.loss(theta, data, const), end='! ')\n",
    "        if info['n_iter'] == self.n_steps:\n",
    "            print('\\nFinal score:', self.compiled.score(theta, data, const))\n",
    "        \n",
    "from sklearn.datasets.samples_generator import make_classification\n",
    "\n",
    "def test_svm():\n",
    "    \n",
    "    X, y_ = make_classification(n_samples=100, n_classes=2, n_features=20, \n",
    "                                n_informative=20, n_redundant=0, random_state=0)\n",
    "    y = 2*y_-1\n",
    "    model = BinarySVMModelLoss(n_features=20, n_steps=100)\n",
    "    best_theta = model.fit({'X': X, 'y': y})\n",
    "    \n",
    "test_svm()"
   ]
  }
 ],
 "metadata": {
  "kernelspec": {
   "display_name": "Python 3",
   "language": "python",
   "name": "python3"
  },
  "language_info": {
   "codemirror_mode": {
    "name": "ipython",
    "version": 3
   },
   "file_extension": ".py",
   "mimetype": "text/x-python",
   "name": "python",
   "nbconvert_exporter": "python",
   "pygments_lexer": "ipython3",
   "version": "3.5.1"
  }
 },
 "nbformat": 4,
 "nbformat_minor": 0
}
