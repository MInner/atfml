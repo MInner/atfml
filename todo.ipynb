{
 "cells": [
  {
   "cell_type": "markdown",
   "metadata": {},
   "source": [
    "### TODO\n",
    "\n",
    "- rewrite `func -> compiled\\raw` s.t. we could have multiple instances of object (i.e. use `self.func`, not `__class__.func`) \n",
    "- rewrite `assert_arr_shape` into separate: `data = assert_arr_shape(data, shape_dict)` and `const = extract_consts(shape_dict)`"
   ]
  }
 ],
 "metadata": {
  "kernelspec": {
   "display_name": "Python 3",
   "language": "python",
   "name": "python3"
  },
  "language_info": {
   "codemirror_mode": {
    "name": "ipython",
    "version": 3
   },
   "file_extension": ".py",
   "mimetype": "text/x-python",
   "name": "python",
   "nbconvert_exporter": "python",
   "pygments_lexer": "ipython3",
   "version": "3.5.1"
  }
 },
 "nbformat": 4,
 "nbformat_minor": 0
}
