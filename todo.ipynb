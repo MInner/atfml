{
 "cells": [
  {
   "cell_type": "markdown",
   "metadata": {},
   "source": [
    "### TODO\n",
    "\n",
    "- rewrite `func -> compiled\\raw` s.t. we could have multiple instances of object (i.e. use `self.func`, not `__class__.func`) \n",
    "- rewrite `assert_arr_shape` into separate: `data = assert_arr_shape(data, shape_dict)` and `const = extract_consts(shape_dict)`\n",
    "- rewrite weights into __hieratical__\n",
    "- rewrite `bundles`; now there are just funcs; in weights section we say\n",
    "```\n",
    "        {\n",
    "            'a': {shape: (10, 20)}\n",
    "            'encoder': bundle.LSTMEncoder.weight_map(100, 200)\n",
    "        }\n",
    "        ...\n",
    "\n",
    "        val = bundle.LSTMEncoder(theta.encoder, {'X': data})\n",
    "        lstm_weight = theta.encoder.W_c\n",
    "```\n",
    "\n",
    "- make compiled\\raw functions compute `(.. , const)` themselves (const parametr - optional)"
   ]
  }
 ],
 "metadata": {
  "kernelspec": {
   "display_name": "Python 3",
   "language": "python",
   "name": "python3"
  },
  "language_info": {
   "codemirror_mode": {
    "name": "ipython",
    "version": 3
   },
   "file_extension": ".py",
   "mimetype": "text/x-python",
   "name": "python",
   "nbconvert_exporter": "python",
   "pygments_lexer": "ipython3",
   "version": "3.5.1"
  }
 },
 "nbformat": 4,
 "nbformat_minor": 0
}
